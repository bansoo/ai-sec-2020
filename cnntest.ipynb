{
  "nbformat": 4,
  "nbformat_minor": 0,
  "metadata": {
    "colab": {
      "name": "cnntest.ipynb",
      "provenance": [],
      "collapsed_sections": []
    },
    "kernelspec": {
      "name": "python3",
      "display_name": "Python 3"
    }
  },
  "cells": [
    {
      "cell_type": "code",
      "metadata": {
        "id": "zhmW6Jiof3H1",
        "colab_type": "code",
        "colab": {}
      },
      "source": [
        "import tensorflow as tf\n",
        "import keras\n",
        "from keras.models import Sequential\n",
        "from keras.layers import Conv2D, Dense, Flatten, MaxPooling2D, AveragePooling2D\n",
        "from keras.optimizers import Adam\n",
        "from keras.losses import sparse_categorical_crossentropy as scc\n",
        "from keras.datasets import cifar10\n",
        "import numpy as np\n",
        "import matplotlib.pyplot as plt"
      ],
      "execution_count": 1,
      "outputs": []
    },
    {
      "cell_type": "code",
      "metadata": {
        "id": "VQXuKaW2gF3D",
        "colab_type": "code",
        "colab": {}
      },
      "source": [
        "def build_model(width, height, channel) :\n",
        "  model = Sequential()\n",
        "\n",
        "  model.add(Conv2D(\n",
        "      filters = 16,\n",
        "      kernel_size = (3, 3),\n",
        "      padding = 'same',\n",
        "      activation = 'relu',\n",
        "      input_shape = (width, height, channel)\n",
        "  ))\n",
        "  model.add(Conv2D(\n",
        "      filters = 16,\n",
        "      kernel_size = (3, 3),\n",
        "      padding = 'same',\n",
        "      activation = 'relu',\n",
        "  ))\n",
        "  model.add(MaxPooling2D(\n",
        "      pool_size=(2,2),\n",
        "      padding='same'\n",
        "  ))\n",
        "\n",
        "  model.add(Conv2D(\n",
        "      filters = 32,\n",
        "      kernel_size = (3, 3),\n",
        "      padding = 'same',\n",
        "      activation = 'relu',\n",
        "  ))\n",
        "  model.add(MaxPooling2D(\n",
        "      pool_size=(2,2),\n",
        "      padding='same'\n",
        "  ))\n",
        "\n",
        "  model.add(Conv2D(\n",
        "      filters = 64,\n",
        "      kernel_size = (3, 3),\n",
        "      padding = 'same',\n",
        "      activation = 'relu',\n",
        "  ))\n",
        "  model.add(AveragePooling2D(\n",
        "      pool_size=(8,8),\n",
        "      padding='same'\n",
        "  ))\n",
        "\n",
        "  model.add(Flatten())\n",
        "  model.add(Dense(\n",
        "      units=640,\n",
        "      activation='relu'\n",
        "  ))\n",
        "  model.add(Dense(\n",
        "      units=10,\n",
        "      activation='softmax'\n",
        "  ))\n",
        "\n",
        "  opt = Adam(learning_rate=0.001)\n",
        "  model.compile(\n",
        "      optimizer=opt,\n",
        "      loss=scc,\n",
        "      metrics=['accuracy']\n",
        "  )\n",
        "\n",
        "  return model"
      ],
      "execution_count": 2,
      "outputs": []
    },
    {
      "cell_type": "code",
      "metadata": {
        "id": "kim9kLnagM8b",
        "colab_type": "code",
        "colab": {
          "base_uri": "https://localhost:8080/",
          "height": 756
        },
        "outputId": "ec645531-09e5-4cc7-a3e0-193c1c5ea8c0"
      },
      "source": [
        "def data_preprocessing() :\n",
        "  (X_train, Y_train), (X_test, Y_test) = cifar10.load_data()\n",
        "\n",
        "  mean=[0,0,0]\n",
        "  std=[0,0,0]\n",
        "  newX_train = np.ones(X_train.shape)\n",
        "  newX_test = np.ones(X_test.shape)\n",
        "\n",
        "  for i in range(3) :\n",
        "    mean[i] = np.mean(X_train[:,:,:,i])\n",
        "    std[i] = np.std(X_train[:,:,:,i])\n",
        "  \n",
        "  for i in range(3) :\n",
        "    newX_train[:,:,:,i] = X_train[:,:,:,i] - mean[i]\n",
        "    newX_train[:,:,:,i] = newX_train[:,:,:,i] / std[i]\n",
        "    newX_test[:,:,:,i] = X_test[:,:,:,i] - mean[i]\n",
        "    newX_test[:,:,:,i] = newX_test[:,:,:,i] / std[i]\n",
        "  \n",
        "  X_train = newX_train\n",
        "  X_test = newX_test\n",
        "\n",
        "  return (X_train, Y_train), (X_test, Y_test)\n",
        "\n",
        "(X_train, Y_train), (X_test, Y_test) = cifar10.load_data()\n",
        "\n",
        "model = build_model(X_train.shape[1], X_train.shape[2], X_train.shape[3])\n",
        "\n",
        "hist = model.fit(\n",
        "    X_train, \n",
        "    Y_train,\n",
        "    batch_size = 32,\n",
        "    epochs = 20,\n",
        "    verbose = 1,\n",
        "    shuffle=True,\n",
        "    validation_split=0.1\n",
        ")\n",
        "\n",
        "model.evaluate(\n",
        "    X_test,\n",
        "    Y_test,\n",
        "    verbose = 1\n",
        ")"
      ],
      "execution_count": 3,
      "outputs": [
        {
          "output_type": "stream",
          "text": [
            "Downloading data from https://www.cs.toronto.edu/~kriz/cifar-10-python.tar.gz\n",
            "170500096/170498071 [==============================] - 4s 0us/step\n",
            "Epoch 1/20\n",
            "1407/1407 [==============================] - 95s 67ms/step - loss: 1.6076 - accuracy: 0.4107 - val_loss: 1.3213 - val_accuracy: 0.5118\n",
            "Epoch 2/20\n",
            "1407/1407 [==============================] - 97s 69ms/step - loss: 1.1997 - accuracy: 0.5682 - val_loss: 1.0527 - val_accuracy: 0.6280\n",
            "Epoch 3/20\n",
            "1407/1407 [==============================] - 95s 68ms/step - loss: 1.0297 - accuracy: 0.6352 - val_loss: 0.9990 - val_accuracy: 0.6568\n",
            "Epoch 4/20\n",
            "1407/1407 [==============================] - 95s 67ms/step - loss: 0.9267 - accuracy: 0.6732 - val_loss: 0.8972 - val_accuracy: 0.6842\n",
            "Epoch 5/20\n",
            "1407/1407 [==============================] - 96s 69ms/step - loss: 0.8481 - accuracy: 0.7004 - val_loss: 0.8973 - val_accuracy: 0.6838\n",
            "Epoch 6/20\n",
            "1407/1407 [==============================] - 96s 68ms/step - loss: 0.7855 - accuracy: 0.7218 - val_loss: 0.8280 - val_accuracy: 0.7168\n",
            "Epoch 7/20\n",
            "1407/1407 [==============================] - 96s 68ms/step - loss: 0.7387 - accuracy: 0.7401 - val_loss: 0.7816 - val_accuracy: 0.7310\n",
            "Epoch 8/20\n",
            "1407/1407 [==============================] - 97s 69ms/step - loss: 0.6959 - accuracy: 0.7560 - val_loss: 0.8070 - val_accuracy: 0.7256\n",
            "Epoch 9/20\n",
            "1407/1407 [==============================] - 96s 68ms/step - loss: 0.6625 - accuracy: 0.7653 - val_loss: 0.7657 - val_accuracy: 0.7398\n",
            "Epoch 10/20\n",
            "1407/1407 [==============================] - 95s 68ms/step - loss: 0.6310 - accuracy: 0.7782 - val_loss: 0.7662 - val_accuracy: 0.7436\n",
            "Epoch 11/20\n",
            "1407/1407 [==============================] - 95s 68ms/step - loss: 0.6017 - accuracy: 0.7860 - val_loss: 0.7961 - val_accuracy: 0.7456\n",
            "Epoch 12/20\n",
            "1407/1407 [==============================] - 97s 69ms/step - loss: 0.5788 - accuracy: 0.7960 - val_loss: 0.7766 - val_accuracy: 0.7448\n",
            "Epoch 13/20\n",
            "1407/1407 [==============================] - 96s 68ms/step - loss: 0.5483 - accuracy: 0.8068 - val_loss: 0.7624 - val_accuracy: 0.7534\n",
            "Epoch 14/20\n",
            "1407/1407 [==============================] - 96s 68ms/step - loss: 0.5285 - accuracy: 0.8132 - val_loss: 0.8016 - val_accuracy: 0.7434\n",
            "Epoch 15/20\n",
            "1407/1407 [==============================] - 99s 70ms/step - loss: 0.5114 - accuracy: 0.8174 - val_loss: 0.8133 - val_accuracy: 0.7322\n",
            "Epoch 16/20\n",
            "1407/1407 [==============================] - 97s 69ms/step - loss: 0.4892 - accuracy: 0.8253 - val_loss: 0.7780 - val_accuracy: 0.7602\n",
            "Epoch 17/20\n",
            "1407/1407 [==============================] - 97s 69ms/step - loss: 0.4720 - accuracy: 0.8322 - val_loss: 0.8688 - val_accuracy: 0.7334\n",
            "Epoch 18/20\n",
            "1407/1407 [==============================] - 97s 69ms/step - loss: 0.4536 - accuracy: 0.8380 - val_loss: 0.7826 - val_accuracy: 0.7554\n",
            "Epoch 19/20\n",
            "1407/1407 [==============================] - 95s 68ms/step - loss: 0.4331 - accuracy: 0.8448 - val_loss: 0.8648 - val_accuracy: 0.7520\n",
            "Epoch 20/20\n",
            "1407/1407 [==============================] - 97s 69ms/step - loss: 0.4226 - accuracy: 0.8483 - val_loss: 0.8557 - val_accuracy: 0.7490\n",
            "313/313 [==============================] - 6s 18ms/step - loss: 0.8865 - accuracy: 0.7359\n"
          ],
          "name": "stdout"
        },
        {
          "output_type": "execute_result",
          "data": {
            "text/plain": [
              "[0.8864904046058655, 0.7358999848365784]"
            ]
          },
          "metadata": {
            "tags": []
          },
          "execution_count": 3
        }
      ]
    },
    {
      "cell_type": "code",
      "metadata": {
        "id": "oOjCPLXMo6fX",
        "colab_type": "code",
        "colab": {
          "base_uri": "https://localhost:8080/",
          "height": 545
        },
        "outputId": "40d46969-6d75-4ec0-9458-979837a07d77"
      },
      "source": [
        "plt.plot(hist.history['loss'])\n",
        "plt.title(\"loss history\")\n",
        "plt.show()\n",
        "\n",
        "plt.plot(hist.history['accuracy'])\n",
        "plt.title(\"accuracy history\")\n",
        "plt.show()"
      ],
      "execution_count": 4,
      "outputs": [
        {
          "output_type": "display_data",
          "data": {
            "image/png": "[encoded data removed]",
            "text/plain": [
              "<Figure size 432x288 with 1 Axes>"
            ]
          },
          "metadata": {
            "tags": [],
            "needs_background": "light"
          }
        },
        {
          "output_type": "display_data",
          "data": {
            "image/png": "[encoded data removed]",
            "text/plain": [
              "<Figure size 432x288 with 1 Axes>"
            ]
          },
          "metadata": {
            "tags": [],
            "needs_background": "light"
          }
        }
      ]
    }
  ]
}